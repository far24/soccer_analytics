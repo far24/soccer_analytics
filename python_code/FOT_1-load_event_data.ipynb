{
 "cells": [
  {
   "cell_type": "markdown",
   "metadata": {},
   "source": [
    "---\n",
    "title: \"01: Loading StatsBomb Data \"\n",
    "date: 2021-05-19T02:00:00-00:00\n",
    "draft: false\n",
    "tags: [\"soccer analytics\", \"load_data\", \"statsbomb\"]\n",
    "---"
   ]
  },
  {
   "cell_type": "markdown",
   "metadata": {},
   "source": [
    "This file shows how to explore data from statsbomb.\n",
    "The statsbomb data is in \"json\" format.\n",
    "This specific script will teach you:\n",
    "    1) how to load json library\n",
    "    2) how load data using json library\n",
    "    3) how to extract data (of your interest) from the data file"
   ]
  },
  {
   "cell_type": "markdown",
   "metadata": {},
   "source": [
    "## Tutorial"
   ]
  },
  {
   "cell_type": "code",
   "execution_count": 15,
   "metadata": {},
   "outputs": [],
   "source": [
    "import json\n",
    "\n",
    "#Load the competition file\n",
    "with open(\"G:\\\\University of South Carolina\\\\HOW TO\\\\Static Site\\\\Hugo\\\\soccer_analytics\\\\data\\\\statsbomb\\\\competitions.json\") as f:\n",
    "    competitions = json.load(f)\n",
    "\n",
    "\n",
    "#Womens World Cup 2019 has competition ID 72\n",
    "competition_id=72\n",
    "\n",
    "#Load the list of matches for this competition\n",
    "with open('G:\\\\University of South Carolina\\\\HOW TO\\\\Static Site\\\\Hugo\\\\soccer_analytics\\\\data\\\\statsbomb\\\\matches\\\\'+str(competition_id)+'\\\\30.json') as f:\n",
    "    matches = json.load(f)"
   ]
  },
  {
   "cell_type": "code",
   "execution_count": 16,
   "metadata": {},
   "outputs": [
    {
     "name": "stdout",
     "output_type": "stream",
     "text": [
      "Sweden Women's [1-0] Canada Women's\n",
      "Cameroon Women's [2-1] New Zealand Women's\n",
      "Germany Women's [3-0] Nigeria Women's\n",
      "England Women's [1-2] Sweden Women's\n",
      "Jamaica Women's [1-4] Australia Women's\n",
      "Italy Women's [0-2] Netherlands Women's\n",
      "France Women's [2-1] Brazil Women's\n",
      "Germany Women's [1-2] Sweden Women's\n",
      "England Women's [2-1] Scotland Women's\n",
      "Sweden Women's [5-1] Thailand Women's\n",
      "Japan Women's [0-2] England Women's\n",
      "Korea Republic Women's [1-2] Norway Women's\n",
      "United States Women's [3-0] Chile Women's\n",
      "Norway Women's [1-1] Australia Women's\n",
      "Norway Women's [3-0] Nigeria Women's\n",
      "United States Women's [2-0] Netherlands Women's\n",
      "China PR Women's [0-0] Spain Women's\n",
      "Italy Women's [0-1] Brazil Women's\n",
      "France Women's [4-0] Korea Republic Women's\n",
      "Germany Women's [1-0] China PR Women's\n",
      "Spain Women's [3-1] South Africa Women's\n",
      "Australia Women's [1-2] Italy Women's\n",
      "Brazil Women's [3-0] Jamaica Women's\n",
      "Canada Women's [1-0] Cameroon Women's\n",
      "Argentina Women's [0-0] Japan Women's\n",
      "France Women's [1-2] United States Women's\n",
      "New Zealand Women's [0-1] Netherlands Women's\n",
      "United States Women's [13-0] Thailand Women's\n",
      "Chile Women's [0-2] Sweden Women's\n",
      "Nigeria Women's [2-0] Korea Republic Women's\n",
      "France Women's [2-1] Norway Women's\n",
      "Germany Women's [1-0] Spain Women's\n",
      "South Africa Women's [0-1] China PR Women's\n",
      "Australia Women's [3-2] Brazil Women's\n",
      "England Women's [1-0] Argentina Women's\n",
      "Jamaica Women's [0-5] Italy Women's\n",
      "Japan Women's [2-1] Scotland Women's\n",
      "Netherlands Women's [3-1] Cameroon Women's\n",
      "Canada Women's [2-0] New Zealand Women's\n",
      "Nigeria Women's [0-1] France Women's\n",
      "South Africa Women's [0-4] Germany Women's\n",
      "Scotland Women's [3-3] Argentina Women's\n",
      "Thailand Women's [0-2] Chile Women's\n",
      "Netherlands Women's [2-1] Canada Women's\n",
      "Sweden Women's [0-2] United States Women's\n",
      "England Women's [3-0] Cameroon Women's\n",
      "Spain Women's [1-2] United States Women's\n",
      "Italy Women's [2-0] China PR Women's\n",
      "Netherlands Women's [2-1] Japan Women's\n",
      "Norway Women's [0-3] England Women's\n",
      "England Women's [1-2] United States Women's\n",
      "Netherlands Women's [1-0] Sweden Women's\n"
     ]
    }
   ],
   "source": [
    "#Print all match results\n",
    "for match in matches:\n",
    "    home_team_name=match['home_team']['home_team_name']\n",
    "    away_team_name=match['away_team']['away_team_name']\n",
    "    home_score=match['home_score']\n",
    "    away_score=match['away_score']\n",
    "    describe_text = home_team_name + ' ['  + str(home_score) + '-' + str(away_score) + '] ' + away_team_name\n",
    "    print(describe_text)"
   ]
  },
  {
   "cell_type": "code",
   "execution_count": 17,
   "metadata": {},
   "outputs": [
    {
     "name": "stdout",
     "output_type": "stream",
     "text": [
      "England Women's vs Sweden Women's has id:69301\n"
     ]
    }
   ],
   "source": [
    "#Now lets find a match we are interested in\n",
    "home_team_required =\"England Women's\"\n",
    "away_team_required =\"Sweden Women's\"\n",
    "match_id_required = -999\n",
    "\n",
    "for match in matches:\n",
    "    home_team_name=match['home_team']['home_team_name']\n",
    "    away_team_name=match['away_team']['away_team_name']\n",
    "    if (home_team_name==home_team_required) and (away_team_name==away_team_required):\n",
    "        match_id_required = match['match_id']\n",
    "\n",
    "print(home_team_required + ' vs ' + away_team_required + ' has id:' + str(match_id_required))"
   ]
  },
  {
   "cell_type": "markdown",
   "metadata": {},
   "source": [
    "## Exercises"
   ]
  },
  {
   "cell_type": "markdown",
   "metadata": {},
   "source": [
    "1. Edit the code above to print out the result list for the Mens World cup "
   ]
  },
  {
   "cell_type": "code",
   "execution_count": 18,
   "metadata": {},
   "outputs": [
    {
     "name": "stdout",
     "output_type": "stream",
     "text": [
      "Competition ID for Men's WC: 43\n",
      "Croatia [1-1] Denmark\n",
      "Nigeria [2-0] Iceland\n",
      "Poland [0-3] Colombia\n",
      "Croatia [2-0] Nigeria\n",
      "Brazil [2-0] Costa Rica\n",
      "Germany [0-1] Mexico\n",
      "Australia [0-2] Peru\n",
      "Serbia [0-2] Brazil\n",
      "Senegal [0-1] Colombia\n",
      "Panama [1-2] Tunisia\n",
      "Switzerland [2-2] Costa Rica\n",
      "France [2-1] Australia\n",
      "Uruguay [3-0] Russia\n",
      "Brazil [2-0] Mexico\n",
      "Russia [2-2] Croatia\n",
      "Denmark [1-1] Australia\n",
      "Costa Rica [0-1] Serbia\n",
      "France [1-0] Peru\n",
      "Belgium [3-2] Japan\n",
      "Belgium [3-0] Panama\n",
      "Argentina [0-3] Croatia\n",
      "France [4-3] Argentina\n",
      "Brazil [1-2] Belgium\n",
      "Uruguay [0-2] France\n",
      "France [4-2] Croatia\n",
      "Iceland [1-2] Croatia\n",
      "Poland [1-2] Senegal\n",
      "Denmark [0-0] France\n",
      "Egypt [0-1] Uruguay\n",
      "Argentina [1-1] Iceland\n",
      "Spain [1-1] Russia\n",
      "Belgium [5-2] Tunisia\n",
      "Peru [0-1] Denmark\n",
      "Uruguay [1-0] Saudi Arabia\n",
      "South Korea [1-2] Mexico\n",
      "Spain [2-2] Morocco\n",
      "Brazil [1-1] Switzerland\n",
      "Nigeria [1-2] Argentina\n",
      "Japan [2-2] Senegal\n",
      "Saudi Arabia [2-1] Egypt\n",
      "Uruguay [2-1] Portugal\n",
      "Japan [0-1] Poland\n",
      "Morocco [0-1] Iran\n",
      "Iran [0-1] Spain\n",
      "Russia [5-0] Saudi Arabia\n",
      "Sweden [1-0] South Korea\n",
      "Portugal [3-3] Spain\n",
      "Portugal [1-0] Morocco\n",
      "Mexico [0-3] Sweden\n",
      "Iran [1-1] Portugal\n",
      "England [6-1] Panama\n",
      "England [0-1] Belgium\n",
      "Colombia [1-1] England\n",
      "Sweden [1-0] Switzerland\n",
      "Croatia [2-1] England\n",
      "Sweden [0-2] England\n",
      "South Korea [2-0] Germany\n",
      "Colombia [1-2] Japan\n",
      "France [1-0] Belgium\n",
      "Belgium [2-0] England\n",
      "Russia [3-1] Egypt\n",
      "Germany [2-1] Sweden\n",
      "Serbia [1-2] Switzerland\n",
      "Tunisia [1-2] England\n"
     ]
    }
   ],
   "source": [
    "# find ID for FIFA World Cup  (i.e., Men's World Cup)\n",
    "req_competition_name = \"FIFA World Cup\"\n",
    "competition_id=-999\n",
    "\n",
    "for competition in competitions:\n",
    "    if (competition['competition_name'] == req_competition_name):\n",
    "        competition_id = competition['competition_id']\n",
    "       \n",
    "print(f\"Competition ID for Men's WC: {competition_id}\")\n",
    "\n",
    "#Load the list of matches for Men's WC competition\n",
    "with open('G:\\\\University of South Carolina\\\\HOW TO\\\\Static Site\\\\Hugo\\\\soccer_analytics\\\\data\\\\statsbomb\\\\matches\\\\'+str(competition_id)+'\\\\3.json') as f:\n",
    "    matches = json.load(f)        \n",
    "\n",
    "\n",
    "#Print all match results\n",
    "for match in matches:\n",
    "    home_team_name=match['home_team']['home_team_name']\n",
    "    away_team_name=match['away_team']['away_team_name']\n",
    "    home_score=match['home_score']\n",
    "    away_score=match['away_score']\n",
    "    describe_text = home_team_name + \" [\" + str(home_score) + '-' + str(away_score) + \"] \" +  away_team_name\n",
    "    print(describe_text)"
   ]
  },
  {
   "cell_type": "markdown",
   "metadata": {},
   "source": [
    "2. Edit the code above to find the ID for England vs. Sweden"
   ]
  },
  {
   "cell_type": "code",
   "execution_count": 19,
   "metadata": {},
   "outputs": [
    {
     "name": "stdout",
     "output_type": "stream",
     "text": [
      "England vs Sweden has id: 8651\n"
     ]
    }
   ],
   "source": [
    "home_team_required =\"England\"\n",
    "away_team_required =\"Sweden\"\n",
    "match_id_required = -999\n",
    "\n",
    "for match in matches:\n",
    "    home_team_name=match['home_team']['home_team_name']\n",
    "    away_team_name=match['away_team']['away_team_name']\n",
    "    if (home_team_name==home_team_required) and (away_team_name==away_team_required) or(away_team_name==home_team_required) and (home_team_name==away_team_required) :\n",
    "        match_id_required = match['match_id']\n",
    "\n",
    "print(home_team_required + ' vs ' + away_team_required + ' has id: ' + str(match_id_required))\n"
   ]
  },
  {
   "cell_type": "markdown",
   "metadata": {},
   "source": [
    "3. Write new code to write out a list of just Sweden's results in the tournament."
   ]
  },
  {
   "cell_type": "code",
   "execution_count": 20,
   "metadata": {},
   "outputs": [
    {
     "name": "stdout",
     "output_type": "stream",
     "text": [
      "Sweden [1-0] South Korea\n",
      "Mexico [0-3] Sweden\n",
      "Sweden [1-0] Switzerland\n",
      "Sweden [0-2] England\n",
      "Germany [2-1] Sweden\n"
     ]
    }
   ],
   "source": [
    "#Print all match results\n",
    "team_name = \"Sweden\"\n",
    "\n",
    "for match in matches:\n",
    "    home_team_name=match['home_team']['home_team_name']\n",
    "    away_team_name=match['away_team']['away_team_name']\n",
    "    if home_team_name ==  team_name or away_team_name == team_name: \n",
    "        home_score=match['home_score']\n",
    "        away_score=match['away_score']\n",
    "        describe_text = home_team_name + \" [\" + str(home_score) + '-' + str(away_score) + \"] \" +  away_team_name\n",
    "        print(describe_text)\n"
   ]
  }
 ],
 "metadata": {
  "kernelspec": {
   "display_name": "Python 3",
   "language": "python",
   "name": "python3"
  },
  "language_info": {
   "codemirror_mode": {
    "name": "ipython",
    "version": 3
   },
   "file_extension": ".py",
   "mimetype": "text/x-python",
   "name": "python",
   "nbconvert_exporter": "python",
   "pygments_lexer": "ipython3",
   "version": "3.8.10"
  },
  "varInspector": {
   "cols": {
    "lenName": 16,
    "lenType": 16,
    "lenVar": 40
   },
   "kernels_config": {
    "python": {
     "delete_cmd_postfix": "",
     "delete_cmd_prefix": "del ",
     "library": "var_list.py",
     "varRefreshCmd": "print(var_dic_list())"
    },
    "r": {
     "delete_cmd_postfix": ") ",
     "delete_cmd_prefix": "rm(",
     "library": "var_list.r",
     "varRefreshCmd": "cat(var_dic_list()) "
    }
   },
   "types_to_exclude": [
    "module",
    "function",
    "builtin_function_or_method",
    "instance",
    "_Feature"
   ],
   "window_display": false
  }
 },
 "nbformat": 4,
 "nbformat_minor": 4
}
